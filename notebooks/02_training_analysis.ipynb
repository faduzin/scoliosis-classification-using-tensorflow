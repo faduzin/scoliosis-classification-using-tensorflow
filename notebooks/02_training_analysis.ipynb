{
 "cells": [
  {
   "cell_type": "code",
   "execution_count": 1,
   "metadata": {},
   "outputs": [
    {
     "name": "stderr",
     "output_type": "stream",
     "text": [
      "2025-02-19 13:10:15.869219: E external/local_xla/xla/stream_executor/cuda/cuda_fft.cc:477] Unable to register cuFFT factory: Attempting to register factory for plugin cuFFT when one has already been registered\n",
      "WARNING: All log messages before absl::InitializeLog() is called are written to STDERR\n",
      "E0000 00:00:1739981415.885619  137174 cuda_dnn.cc:8310] Unable to register cuDNN factory: Attempting to register factory for plugin cuDNN when one has already been registered\n",
      "E0000 00:00:1739981415.896065  137174 cuda_blas.cc:1418] Unable to register cuBLAS factory: Attempting to register factory for plugin cuBLAS when one has already been registered\n",
      "2025-02-19 13:10:15.927823: I tensorflow/core/platform/cpu_feature_guard.cc:210] This TensorFlow binary is optimized to use available CPU instructions in performance-critical operations.\n",
      "To enable the following instructions: AVX2 FMA, in other operations, rebuild TensorFlow with the appropriate compiler flags.\n"
     ]
    }
   ],
   "source": [
    "import sys\n",
    "sys.path.append('../')\n",
    "\n",
    "from src import *"
   ]
  },
  {
   "cell_type": "markdown",
   "metadata": {},
   "source": [
    "## Importing, scaling and splitting"
   ]
  },
  {
   "cell_type": "code",
   "execution_count": 2,
   "metadata": {},
   "outputs": [
    {
     "name": "stdout",
     "output_type": "stream",
     "text": [
      "Data loaded successfully.\n"
     ]
    }
   ],
   "source": [
    "df = load_data('../data/processed/processed-scoliosis-dataset.csv')"
   ]
  },
  {
   "cell_type": "code",
   "execution_count": 3,
   "metadata": {},
   "outputs": [],
   "source": [
    "X = df.drop(columns=['Name', 'Scolio', 'Class', 'individual_n'])\n",
    "y = df['Class']\n",
    "groups = df['individual_n']"
   ]
  },
  {
   "cell_type": "code",
   "execution_count": 4,
   "metadata": {},
   "outputs": [
    {
     "name": "stdout",
     "output_type": "stream",
     "text": [
      "Data scaled successfully.\n"
     ]
    }
   ],
   "source": [
    "X = scale_data(X)"
   ]
  },
  {
   "cell_type": "code",
   "execution_count": 6,
   "metadata": {},
   "outputs": [
    {
     "name": "stdout",
     "output_type": "stream",
     "text": [
      "  Train Distribution After: Counter({np.int64(0): 42, np.int64(1): 42})\n",
      "  Test Distribution (Unchanged): Counter({0: 17, 1: 13})\n",
      "\n"
     ]
    }
   ],
   "source": [
    "X_train, y_train, X_test, y_test = stratified_group_split(X, y, groups)"
   ]
  },
  {
   "cell_type": "markdown",
   "metadata": {},
   "source": [
    "## First model"
   ]
  },
  {
   "cell_type": "code",
   "execution_count": 8,
   "metadata": {},
   "outputs": [
    {
     "name": "stderr",
     "output_type": "stream",
     "text": [
      "I0000 00:00:1739981430.088106  137174 gpu_device.cc:2022] Created device /job:localhost/replica:0/task:0/device:GPU:0 with 4699 MB memory:  -> device: 0, name: NVIDIA GeForce GTX 1060 6GB, pci bus id: 0000:01:00.0, compute capability: 6.1\n"
     ]
    },
    {
     "data": {
      "text/html": [
       "<pre style=\"white-space:pre;overflow-x:auto;line-height:normal;font-family:Menlo,'DejaVu Sans Mono',consolas,'Courier New',monospace\"><span style=\"font-weight: bold\">Model: \"sequential\"</span>\n",
       "</pre>\n"
      ],
      "text/plain": [
       "\u001b[1mModel: \"sequential\"\u001b[0m\n"
      ]
     },
     "metadata": {},
     "output_type": "display_data"
    },
    {
     "data": {
      "text/html": [
       "<pre style=\"white-space:pre;overflow-x:auto;line-height:normal;font-family:Menlo,'DejaVu Sans Mono',consolas,'Courier New',monospace\">┏━━━━━━━━━━━━━━━━━━━━━━━━━━━━━━━━━┳━━━━━━━━━━━━━━━━━━━━━━━━┳━━━━━━━━━━━━━━━┓\n",
       "┃<span style=\"font-weight: bold\"> Layer (type)                    </span>┃<span style=\"font-weight: bold\"> Output Shape           </span>┃<span style=\"font-weight: bold\">       Param # </span>┃\n",
       "┡━━━━━━━━━━━━━━━━━━━━━━━━━━━━━━━━━╇━━━━━━━━━━━━━━━━━━━━━━━━╇━━━━━━━━━━━━━━━┩\n",
       "│ dense (<span style=\"color: #0087ff; text-decoration-color: #0087ff\">Dense</span>)                   │ (<span style=\"color: #00d7ff; text-decoration-color: #00d7ff\">None</span>, <span style=\"color: #00af00; text-decoration-color: #00af00\">128</span>)            │        <span style=\"color: #00af00; text-decoration-color: #00af00\">17,280</span> │\n",
       "├─────────────────────────────────┼────────────────────────┼───────────────┤\n",
       "│ dense_1 (<span style=\"color: #0087ff; text-decoration-color: #0087ff\">Dense</span>)                 │ (<span style=\"color: #00d7ff; text-decoration-color: #00d7ff\">None</span>, <span style=\"color: #00af00; text-decoration-color: #00af00\">64</span>)             │         <span style=\"color: #00af00; text-decoration-color: #00af00\">8,256</span> │\n",
       "├─────────────────────────────────┼────────────────────────┼───────────────┤\n",
       "│ dense_2 (<span style=\"color: #0087ff; text-decoration-color: #0087ff\">Dense</span>)                 │ (<span style=\"color: #00d7ff; text-decoration-color: #00d7ff\">None</span>, <span style=\"color: #00af00; text-decoration-color: #00af00\">32</span>)             │         <span style=\"color: #00af00; text-decoration-color: #00af00\">2,080</span> │\n",
       "├─────────────────────────────────┼────────────────────────┼───────────────┤\n",
       "│ dense_3 (<span style=\"color: #0087ff; text-decoration-color: #0087ff\">Dense</span>)                 │ (<span style=\"color: #00d7ff; text-decoration-color: #00d7ff\">None</span>, <span style=\"color: #00af00; text-decoration-color: #00af00\">1</span>)              │            <span style=\"color: #00af00; text-decoration-color: #00af00\">33</span> │\n",
       "└─────────────────────────────────┴────────────────────────┴───────────────┘\n",
       "</pre>\n"
      ],
      "text/plain": [
       "┏━━━━━━━━━━━━━━━━━━━━━━━━━━━━━━━━━┳━━━━━━━━━━━━━━━━━━━━━━━━┳━━━━━━━━━━━━━━━┓\n",
       "┃\u001b[1m \u001b[0m\u001b[1mLayer (type)                   \u001b[0m\u001b[1m \u001b[0m┃\u001b[1m \u001b[0m\u001b[1mOutput Shape          \u001b[0m\u001b[1m \u001b[0m┃\u001b[1m \u001b[0m\u001b[1m      Param #\u001b[0m\u001b[1m \u001b[0m┃\n",
       "┡━━━━━━━━━━━━━━━━━━━━━━━━━━━━━━━━━╇━━━━━━━━━━━━━━━━━━━━━━━━╇━━━━━━━━━━━━━━━┩\n",
       "│ dense (\u001b[38;5;33mDense\u001b[0m)                   │ (\u001b[38;5;45mNone\u001b[0m, \u001b[38;5;34m128\u001b[0m)            │        \u001b[38;5;34m17,280\u001b[0m │\n",
       "├─────────────────────────────────┼────────────────────────┼───────────────┤\n",
       "│ dense_1 (\u001b[38;5;33mDense\u001b[0m)                 │ (\u001b[38;5;45mNone\u001b[0m, \u001b[38;5;34m64\u001b[0m)             │         \u001b[38;5;34m8,256\u001b[0m │\n",
       "├─────────────────────────────────┼────────────────────────┼───────────────┤\n",
       "│ dense_2 (\u001b[38;5;33mDense\u001b[0m)                 │ (\u001b[38;5;45mNone\u001b[0m, \u001b[38;5;34m32\u001b[0m)             │         \u001b[38;5;34m2,080\u001b[0m │\n",
       "├─────────────────────────────────┼────────────────────────┼───────────────┤\n",
       "│ dense_3 (\u001b[38;5;33mDense\u001b[0m)                 │ (\u001b[38;5;45mNone\u001b[0m, \u001b[38;5;34m1\u001b[0m)              │            \u001b[38;5;34m33\u001b[0m │\n",
       "└─────────────────────────────────┴────────────────────────┴───────────────┘\n"
      ]
     },
     "metadata": {},
     "output_type": "display_data"
    },
    {
     "data": {
      "text/html": [
       "<pre style=\"white-space:pre;overflow-x:auto;line-height:normal;font-family:Menlo,'DejaVu Sans Mono',consolas,'Courier New',monospace\"><span style=\"font-weight: bold\"> Total params: </span><span style=\"color: #00af00; text-decoration-color: #00af00\">27,649</span> (108.00 KB)\n",
       "</pre>\n"
      ],
      "text/plain": [
       "\u001b[1m Total params: \u001b[0m\u001b[38;5;34m27,649\u001b[0m (108.00 KB)\n"
      ]
     },
     "metadata": {},
     "output_type": "display_data"
    },
    {
     "data": {
      "text/html": [
       "<pre style=\"white-space:pre;overflow-x:auto;line-height:normal;font-family:Menlo,'DejaVu Sans Mono',consolas,'Courier New',monospace\"><span style=\"font-weight: bold\"> Trainable params: </span><span style=\"color: #00af00; text-decoration-color: #00af00\">27,649</span> (108.00 KB)\n",
       "</pre>\n"
      ],
      "text/plain": [
       "\u001b[1m Trainable params: \u001b[0m\u001b[38;5;34m27,649\u001b[0m (108.00 KB)\n"
      ]
     },
     "metadata": {},
     "output_type": "display_data"
    },
    {
     "data": {
      "text/html": [
       "<pre style=\"white-space:pre;overflow-x:auto;line-height:normal;font-family:Menlo,'DejaVu Sans Mono',consolas,'Courier New',monospace\"><span style=\"font-weight: bold\"> Non-trainable params: </span><span style=\"color: #00af00; text-decoration-color: #00af00\">0</span> (0.00 B)\n",
       "</pre>\n"
      ],
      "text/plain": [
       "\u001b[1m Non-trainable params: \u001b[0m\u001b[38;5;34m0\u001b[0m (0.00 B)\n"
      ]
     },
     "metadata": {},
     "output_type": "display_data"
    }
   ],
   "source": [
    "model = build_mlp(X_train.shape[1])"
   ]
  },
  {
   "cell_type": "code",
   "execution_count": 9,
   "metadata": {},
   "outputs": [
    {
     "name": "stdout",
     "output_type": "stream",
     "text": [
      "Epoch 1/10\n"
     ]
    },
    {
     "name": "stderr",
     "output_type": "stream",
     "text": [
      "WARNING: All log messages before absl::InitializeLog() is called are written to STDERR\n",
      "I0000 00:00:1739981435.157373  137261 service.cc:148] XLA service 0x7fc55c003a50 initialized for platform CUDA (this does not guarantee that XLA will be used). Devices:\n",
      "I0000 00:00:1739981435.157424  137261 service.cc:156]   StreamExecutor device (0): NVIDIA GeForce GTX 1060 6GB, Compute Capability 6.1\n",
      "2025-02-19 13:10:35.292845: I tensorflow/compiler/mlir/tensorflow/utils/dump_mlir_util.cc:268] disabling MLIR crash reproducer, set env var `MLIR_CRASH_REPRODUCER_DIRECTORY` to enable.\n",
      "I0000 00:00:1739981435.530671  137261 cuda_dnn.cc:529] Loaded cuDNN version 90300\n"
     ]
    },
    {
     "name": "stdout",
     "output_type": "stream",
     "text": [
      "\u001b[1m31/67\u001b[0m \u001b[32m━━━━━━━━━\u001b[0m\u001b[37m━━━━━━━━━━━\u001b[0m \u001b[1m0s\u001b[0m 5ms/step - accuracy: 0.4551 - auc: 0.2907 - loss: 0.0608 - precision: 0.1278 - recall: 0.0911           "
     ]
    },
    {
     "name": "stderr",
     "output_type": "stream",
     "text": [
      "I0000 00:00:1739981436.251461  137261 device_compiler.h:188] Compiled cluster using XLA!  This line is logged at most once for the lifetime of the process.\n"
     ]
    },
    {
     "name": "stdout",
     "output_type": "stream",
     "text": [
      "\u001b[1m67/67\u001b[0m \u001b[32m━━━━━━━━━━━━━━━━━━━━\u001b[0m\u001b[37m\u001b[0m \u001b[1m8s\u001b[0m 82ms/step - accuracy: 0.4882 - auc: 0.3250 - loss: 0.0593 - precision: 0.2270 - recall: 0.2069 - val_accuracy: 0.6471 - val_auc: 0.0000e+00 - val_loss: 0.0438 - val_precision: 1.0000 - val_recall: 0.6471\n",
      "Epoch 2/10\n",
      "\u001b[1m67/67\u001b[0m \u001b[32m━━━━━━━━━━━━━━━━━━━━\u001b[0m\u001b[37m\u001b[0m \u001b[1m0s\u001b[0m 7ms/step - accuracy: 0.6023 - auc: 0.4377 - loss: 0.0547 - precision: 0.4602 - recall: 0.4335 - val_accuracy: 0.6471 - val_auc: 0.0000e+00 - val_loss: 0.0432 - val_precision: 1.0000 - val_recall: 0.6471\n",
      "Epoch 3/10\n",
      "\u001b[1m67/67\u001b[0m \u001b[32m━━━━━━━━━━━━━━━━━━━━\u001b[0m\u001b[37m\u001b[0m \u001b[1m1s\u001b[0m 8ms/step - accuracy: 0.4801 - auc: 0.3653 - loss: 0.0566 - precision: 0.3385 - recall: 0.4574 - val_accuracy: 0.5882 - val_auc: 0.0000e+00 - val_loss: 0.0432 - val_precision: 1.0000 - val_recall: 0.5882\n",
      "Epoch 4/10\n",
      "\u001b[1m67/67\u001b[0m \u001b[32m━━━━━━━━━━━━━━━━━━━━\u001b[0m\u001b[37m\u001b[0m \u001b[1m1s\u001b[0m 9ms/step - accuracy: 0.4562 - auc: 0.3163 - loss: 0.0606 - precision: 0.2029 - recall: 0.2011 - val_accuracy: 0.5882 - val_auc: 0.0000e+00 - val_loss: 0.0433 - val_precision: 1.0000 - val_recall: 0.5882\n",
      "Epoch 5/10\n",
      "\u001b[1m67/67\u001b[0m \u001b[32m━━━━━━━━━━━━━━━━━━━━\u001b[0m\u001b[37m\u001b[0m \u001b[1m1s\u001b[0m 8ms/step - accuracy: 0.5006 - auc: 0.4304 - loss: 0.0543 - precision: 0.3438 - recall: 0.3253 - val_accuracy: 0.5882 - val_auc: 0.0000e+00 - val_loss: 0.0430 - val_precision: 1.0000 - val_recall: 0.5882\n",
      "Epoch 6/10\n",
      "\u001b[1m67/67\u001b[0m \u001b[32m━━━━━━━━━━━━━━━━━━━━\u001b[0m\u001b[37m\u001b[0m \u001b[1m1s\u001b[0m 8ms/step - accuracy: 0.5059 - auc: 0.4777 - loss: 0.0490 - precision: 0.3303 - recall: 0.3226 - val_accuracy: 0.6471 - val_auc: 0.0000e+00 - val_loss: 0.0431 - val_precision: 1.0000 - val_recall: 0.6471\n",
      "Epoch 7/10\n",
      "\u001b[1m67/67\u001b[0m \u001b[32m━━━━━━━━━━━━━━━━━━━━\u001b[0m\u001b[37m\u001b[0m \u001b[1m1s\u001b[0m 12ms/step - accuracy: 0.5669 - auc: 0.5022 - loss: 0.0478 - precision: 0.5022 - recall: 0.4002 - val_accuracy: 0.6471 - val_auc: 0.0000e+00 - val_loss: 0.0429 - val_precision: 1.0000 - val_recall: 0.6471\n",
      "Epoch 8/10\n",
      "\u001b[1m67/67\u001b[0m \u001b[32m━━━━━━━━━━━━━━━━━━━━\u001b[0m\u001b[37m\u001b[0m \u001b[1m1s\u001b[0m 8ms/step - accuracy: 0.6096 - auc: 0.5083 - loss: 0.0475 - precision: 0.5342 - recall: 0.4059 - val_accuracy: 0.6471 - val_auc: 0.0000e+00 - val_loss: 0.0430 - val_precision: 1.0000 - val_recall: 0.6471\n",
      "Epoch 9/10\n",
      "\u001b[1m67/67\u001b[0m \u001b[32m━━━━━━━━━━━━━━━━━━━━\u001b[0m\u001b[37m\u001b[0m \u001b[1m1s\u001b[0m 10ms/step - accuracy: 0.6251 - auc: 0.6232 - loss: 0.0420 - precision: 0.5210 - recall: 0.5069 - val_accuracy: 0.6471 - val_auc: 0.0000e+00 - val_loss: 0.0429 - val_precision: 1.0000 - val_recall: 0.6471\n",
      "Epoch 10/10\n",
      "\u001b[1m67/67\u001b[0m \u001b[32m━━━━━━━━━━━━━━━━━━━━\u001b[0m\u001b[37m\u001b[0m \u001b[1m1s\u001b[0m 9ms/step - accuracy: 0.5718 - auc: 0.4842 - loss: 0.0461 - precision: 0.3200 - recall: 0.2682 - val_accuracy: 0.6471 - val_auc: 0.0000e+00 - val_loss: 0.0431 - val_precision: 1.0000 - val_recall: 0.6471\n"
     ]
    },
    {
     "data": {
      "text/plain": [
       "<keras.src.callbacks.history.History at 0x7fc5ece17500>"
      ]
     },
     "execution_count": 9,
     "metadata": {},
     "output_type": "execute_result"
    }
   ],
   "source": [
    "model.fit(X_train, y_train, epochs=10, batch_size=1, validation_split=0.2)"
   ]
  },
  {
   "cell_type": "code",
   "execution_count": 10,
   "metadata": {},
   "outputs": [
    {
     "name": "stdout",
     "output_type": "stream",
     "text": [
      "\u001b[1m1/1\u001b[0m \u001b[32m━━━━━━━━━━━━━━━━━━━━\u001b[0m\u001b[37m\u001b[0m \u001b[1m1s\u001b[0m 753ms/step\n"
     ]
    }
   ],
   "source": [
    "y_pred = model.predict(X_test)"
   ]
  },
  {
   "cell_type": "code",
   "execution_count": 11,
   "metadata": {},
   "outputs": [
    {
     "data": {
      "image/png": "[encoded data removed]",
      "text/plain": [
       "<Figure size 1000x800 with 2 Axes>"
      ]
     },
     "metadata": {},
     "output_type": "display_data"
    }
   ],
   "source": [
    "labels = ['Normal', 'Scoliosis']\n",
    "plot_confusion_matrix(y_test, y_pred.argmax(axis=1), labels)"
   ]
  },
  {
   "cell_type": "markdown",
   "metadata": {},
   "source": [
    "## PCA Model"
   ]
  },
  {
   "cell_type": "code",
   "execution_count": 12,
   "metadata": {},
   "outputs": [],
   "source": [
    "from sklearn.decomposition import PCA\n",
    "\n",
    "pca = PCA(n_components=0.95)\n",
    "X_pca = pca.fit_transform(X)"
   ]
  },
  {
   "cell_type": "code",
   "execution_count": 13,
   "metadata": {},
   "outputs": [
    {
     "name": "stdout",
     "output_type": "stream",
     "text": [
      "  Train Distribution After: Counter({np.int64(0): 42, np.int64(1): 42})\n",
      "  Test Distribution (Unchanged): Counter({0: 17, 1: 13})\n",
      "\n"
     ]
    }
   ],
   "source": [
    "X_train, y_train, X_test, y_test = stratified_group_split(X_pca, y, groups)"
   ]
  },
  {
   "cell_type": "code",
   "execution_count": 14,
   "metadata": {},
   "outputs": [
    {
     "data": {
      "text/html": [
       "<pre style=\"white-space:pre;overflow-x:auto;line-height:normal;font-family:Menlo,'DejaVu Sans Mono',consolas,'Courier New',monospace\"><span style=\"font-weight: bold\">Model: \"sequential_1\"</span>\n",
       "</pre>\n"
      ],
      "text/plain": [
       "\u001b[1mModel: \"sequential_1\"\u001b[0m\n"
      ]
     },
     "metadata": {},
     "output_type": "display_data"
    },
    {
     "data": {
      "text/html": [
       "<pre style=\"white-space:pre;overflow-x:auto;line-height:normal;font-family:Menlo,'DejaVu Sans Mono',consolas,'Courier New',monospace\">┏━━━━━━━━━━━━━━━━━━━━━━━━━━━━━━━━━┳━━━━━━━━━━━━━━━━━━━━━━━━┳━━━━━━━━━━━━━━━┓\n",
       "┃<span style=\"font-weight: bold\"> Layer (type)                    </span>┃<span style=\"font-weight: bold\"> Output Shape           </span>┃<span style=\"font-weight: bold\">       Param # </span>┃\n",
       "┡━━━━━━━━━━━━━━━━━━━━━━━━━━━━━━━━━╇━━━━━━━━━━━━━━━━━━━━━━━━╇━━━━━━━━━━━━━━━┩\n",
       "│ dense_4 (<span style=\"color: #0087ff; text-decoration-color: #0087ff\">Dense</span>)                 │ (<span style=\"color: #00d7ff; text-decoration-color: #00d7ff\">None</span>, <span style=\"color: #00af00; text-decoration-color: #00af00\">128</span>)            │         <span style=\"color: #00af00; text-decoration-color: #00af00\">6,656</span> │\n",
       "├─────────────────────────────────┼────────────────────────┼───────────────┤\n",
       "│ dense_5 (<span style=\"color: #0087ff; text-decoration-color: #0087ff\">Dense</span>)                 │ (<span style=\"color: #00d7ff; text-decoration-color: #00d7ff\">None</span>, <span style=\"color: #00af00; text-decoration-color: #00af00\">64</span>)             │         <span style=\"color: #00af00; text-decoration-color: #00af00\">8,256</span> │\n",
       "├─────────────────────────────────┼────────────────────────┼───────────────┤\n",
       "│ dense_6 (<span style=\"color: #0087ff; text-decoration-color: #0087ff\">Dense</span>)                 │ (<span style=\"color: #00d7ff; text-decoration-color: #00d7ff\">None</span>, <span style=\"color: #00af00; text-decoration-color: #00af00\">32</span>)             │         <span style=\"color: #00af00; text-decoration-color: #00af00\">2,080</span> │\n",
       "├─────────────────────────────────┼────────────────────────┼───────────────┤\n",
       "│ dense_7 (<span style=\"color: #0087ff; text-decoration-color: #0087ff\">Dense</span>)                 │ (<span style=\"color: #00d7ff; text-decoration-color: #00d7ff\">None</span>, <span style=\"color: #00af00; text-decoration-color: #00af00\">1</span>)              │            <span style=\"color: #00af00; text-decoration-color: #00af00\">33</span> │\n",
       "└─────────────────────────────────┴────────────────────────┴───────────────┘\n",
       "</pre>\n"
      ],
      "text/plain": [
       "┏━━━━━━━━━━━━━━━━━━━━━━━━━━━━━━━━━┳━━━━━━━━━━━━━━━━━━━━━━━━┳━━━━━━━━━━━━━━━┓\n",
       "┃\u001b[1m \u001b[0m\u001b[1mLayer (type)                   \u001b[0m\u001b[1m \u001b[0m┃\u001b[1m \u001b[0m\u001b[1mOutput Shape          \u001b[0m\u001b[1m \u001b[0m┃\u001b[1m \u001b[0m\u001b[1m      Param #\u001b[0m\u001b[1m \u001b[0m┃\n",
       "┡━━━━━━━━━━━━━━━━━━━━━━━━━━━━━━━━━╇━━━━━━━━━━━━━━━━━━━━━━━━╇━━━━━━━━━━━━━━━┩\n",
       "│ dense_4 (\u001b[38;5;33mDense\u001b[0m)                 │ (\u001b[38;5;45mNone\u001b[0m, \u001b[38;5;34m128\u001b[0m)            │         \u001b[38;5;34m6,656\u001b[0m │\n",
       "├─────────────────────────────────┼────────────────────────┼───────────────┤\n",
       "│ dense_5 (\u001b[38;5;33mDense\u001b[0m)                 │ (\u001b[38;5;45mNone\u001b[0m, \u001b[38;5;34m64\u001b[0m)             │         \u001b[38;5;34m8,256\u001b[0m │\n",
       "├─────────────────────────────────┼────────────────────────┼───────────────┤\n",
       "│ dense_6 (\u001b[38;5;33mDense\u001b[0m)                 │ (\u001b[38;5;45mNone\u001b[0m, \u001b[38;5;34m32\u001b[0m)             │         \u001b[38;5;34m2,080\u001b[0m │\n",
       "├─────────────────────────────────┼────────────────────────┼───────────────┤\n",
       "│ dense_7 (\u001b[38;5;33mDense\u001b[0m)                 │ (\u001b[38;5;45mNone\u001b[0m, \u001b[38;5;34m1\u001b[0m)              │            \u001b[38;5;34m33\u001b[0m │\n",
       "└─────────────────────────────────┴────────────────────────┴───────────────┘\n"
      ]
     },
     "metadata": {},
     "output_type": "display_data"
    },
    {
     "data": {
      "text/html": [
       "<pre style=\"white-space:pre;overflow-x:auto;line-height:normal;font-family:Menlo,'DejaVu Sans Mono',consolas,'Courier New',monospace\"><span style=\"font-weight: bold\"> Total params: </span><span style=\"color: #00af00; text-decoration-color: #00af00\">17,025</span> (66.50 KB)\n",
       "</pre>\n"
      ],
      "text/plain": [
       "\u001b[1m Total params: \u001b[0m\u001b[38;5;34m17,025\u001b[0m (66.50 KB)\n"
      ]
     },
     "metadata": {},
     "output_type": "display_data"
    },
    {
     "data": {
      "text/html": [
       "<pre style=\"white-space:pre;overflow-x:auto;line-height:normal;font-family:Menlo,'DejaVu Sans Mono',consolas,'Courier New',monospace\"><span style=\"font-weight: bold\"> Trainable params: </span><span style=\"color: #00af00; text-decoration-color: #00af00\">17,025</span> (66.50 KB)\n",
       "</pre>\n"
      ],
      "text/plain": [
       "\u001b[1m Trainable params: \u001b[0m\u001b[38;5;34m17,025\u001b[0m (66.50 KB)\n"
      ]
     },
     "metadata": {},
     "output_type": "display_data"
    },
    {
     "data": {
      "text/html": [
       "<pre style=\"white-space:pre;overflow-x:auto;line-height:normal;font-family:Menlo,'DejaVu Sans Mono',consolas,'Courier New',monospace\"><span style=\"font-weight: bold\"> Non-trainable params: </span><span style=\"color: #00af00; text-decoration-color: #00af00\">0</span> (0.00 B)\n",
       "</pre>\n"
      ],
      "text/plain": [
       "\u001b[1m Non-trainable params: \u001b[0m\u001b[38;5;34m0\u001b[0m (0.00 B)\n"
      ]
     },
     "metadata": {},
     "output_type": "display_data"
    }
   ],
   "source": [
    "model = build_mlp(X_train.shape[1])"
   ]
  },
  {
   "cell_type": "code",
   "execution_count": 18,
   "metadata": {},
   "outputs": [
    {
     "name": "stdout",
     "output_type": "stream",
     "text": [
      "Epoch 1/100\n",
      "\u001b[1m67/67\u001b[0m \u001b[32m━━━━━━━━━━━━━━━━━━━━\u001b[0m\u001b[37m\u001b[0m \u001b[1m1s\u001b[0m 14ms/step - accuracy: 0.4731 - auc: 0.5186 - loss: 0.0470 - precision: 0.3671 - recall: 0.6320 - val_accuracy: 0.4118 - val_auc: 0.0000e+00 - val_loss: 0.0482 - val_precision: 1.0000 - val_recall: 0.4118\n",
      "Epoch 2/100\n",
      "\u001b[1m67/67\u001b[0m \u001b[32m━━━━━━━━━━━━━━━━━━━━\u001b[0m\u001b[37m\u001b[0m \u001b[1m1s\u001b[0m 8ms/step - accuracy: 0.4223 - auc: 0.3807 - loss: 0.0520 - precision: 0.2575 - recall: 0.5089 - val_accuracy: 0.4118 - val_auc: 0.0000e+00 - val_loss: 0.0495 - val_precision: 1.0000 - val_recall: 0.4118\n",
      "Epoch 3/100\n",
      "\u001b[1m67/67\u001b[0m \u001b[32m━━━━━━━━━━━━━━━━━━━━\u001b[0m\u001b[37m\u001b[0m \u001b[1m1s\u001b[0m 10ms/step - accuracy: 0.5394 - auc: 0.5800 - loss: 0.0413 - precision: 0.4997 - recall: 0.5990 - val_accuracy: 0.4118 - val_auc: 0.0000e+00 - val_loss: 0.0500 - val_precision: 1.0000 - val_recall: 0.4118\n",
      "Epoch 4/100\n",
      "\u001b[1m67/67\u001b[0m \u001b[32m━━━━━━━━━━━━━━━━━━━━\u001b[0m\u001b[37m\u001b[0m \u001b[1m1s\u001b[0m 9ms/step - accuracy: 0.3864 - auc: 0.4732 - loss: 0.0454 - precision: 0.2484 - recall: 0.4624 - val_accuracy: 0.3529 - val_auc: 0.0000e+00 - val_loss: 0.0511 - val_precision: 1.0000 - val_recall: 0.3529\n",
      "Epoch 5/100\n",
      "\u001b[1m67/67\u001b[0m \u001b[32m━━━━━━━━━━━━━━━━━━━━\u001b[0m\u001b[37m\u001b[0m \u001b[1m1s\u001b[0m 11ms/step - accuracy: 0.4037 - auc: 0.4671 - loss: 0.0448 - precision: 0.3039 - recall: 0.3944 - val_accuracy: 0.3529 - val_auc: 0.0000e+00 - val_loss: 0.0518 - val_precision: 1.0000 - val_recall: 0.3529\n",
      "Epoch 6/100\n",
      "\u001b[1m67/67\u001b[0m \u001b[32m━━━━━━━━━━━━━━━━━━━━\u001b[0m\u001b[37m\u001b[0m \u001b[1m1s\u001b[0m 8ms/step - accuracy: 0.5618 - auc: 0.6501 - loss: 0.0401 - precision: 0.4523 - recall: 0.6757 - val_accuracy: 0.3529 - val_auc: 0.0000e+00 - val_loss: 0.0523 - val_precision: 1.0000 - val_recall: 0.3529\n",
      "Epoch 7/100\n",
      "\u001b[1m67/67\u001b[0m \u001b[32m━━━━━━━━━━━━━━━━━━━━\u001b[0m\u001b[37m\u001b[0m \u001b[1m1s\u001b[0m 9ms/step - accuracy: 0.7017 - auc: 0.6487 - loss: 0.0384 - precision: 0.5247 - recall: 0.5932 - val_accuracy: 0.3529 - val_auc: 0.0000e+00 - val_loss: 0.0534 - val_precision: 1.0000 - val_recall: 0.3529\n",
      "Epoch 8/100\n",
      "\u001b[1m67/67\u001b[0m \u001b[32m━━━━━━━━━━━━━━━━━━━━\u001b[0m\u001b[37m\u001b[0m \u001b[1m1s\u001b[0m 11ms/step - accuracy: 0.7085 - auc: 0.6970 - loss: 0.0377 - precision: 0.5796 - recall: 0.7175 - val_accuracy: 0.3529 - val_auc: 0.0000e+00 - val_loss: 0.0540 - val_precision: 1.0000 - val_recall: 0.3529\n",
      "Epoch 9/100\n",
      "\u001b[1m67/67\u001b[0m \u001b[32m━━━━━━━━━━━━━━━━━━━━\u001b[0m\u001b[37m\u001b[0m \u001b[1m1s\u001b[0m 8ms/step - accuracy: 0.6528 - auc: 0.6637 - loss: 0.0391 - precision: 0.6165 - recall: 0.6181 - val_accuracy: 0.2941 - val_auc: 0.0000e+00 - val_loss: 0.0546 - val_precision: 1.0000 - val_recall: 0.2941\n",
      "Epoch 10/100\n",
      "\u001b[1m67/67\u001b[0m \u001b[32m━━━━━━━━━━━━━━━━━━━━\u001b[0m\u001b[37m\u001b[0m \u001b[1m1s\u001b[0m 9ms/step - accuracy: 0.7261 - auc: 0.6965 - loss: 0.0367 - precision: 0.5234 - recall: 0.5483 - val_accuracy: 0.2941 - val_auc: 0.0000e+00 - val_loss: 0.0555 - val_precision: 1.0000 - val_recall: 0.2941\n",
      "Epoch 11/100\n",
      "\u001b[1m67/67\u001b[0m \u001b[32m━━━━━━━━━━━━━━━━━━━━\u001b[0m\u001b[37m\u001b[0m \u001b[1m1s\u001b[0m 8ms/step - accuracy: 0.7100 - auc: 0.7102 - loss: 0.0371 - precision: 0.4462 - recall: 0.6980 - val_accuracy: 0.2941 - val_auc: 0.0000e+00 - val_loss: 0.0562 - val_precision: 1.0000 - val_recall: 0.2941\n",
      "Epoch 12/100\n",
      "\u001b[1m67/67\u001b[0m \u001b[32m━━━━━━━━━━━━━━━━━━━━\u001b[0m\u001b[37m\u001b[0m \u001b[1m1s\u001b[0m 11ms/step - accuracy: 0.7103 - auc: 0.7632 - loss: 0.0355 - precision: 0.5861 - recall: 0.7513 - val_accuracy: 0.2941 - val_auc: 0.0000e+00 - val_loss: 0.0566 - val_precision: 1.0000 - val_recall: 0.2941\n",
      "Epoch 13/100\n",
      "\u001b[1m67/67\u001b[0m \u001b[32m━━━━━━━━━━━━━━━━━━━━\u001b[0m\u001b[37m\u001b[0m \u001b[1m1s\u001b[0m 9ms/step - accuracy: 0.7378 - auc: 0.8264 - loss: 0.0339 - precision: 0.6192 - recall: 0.7046 - val_accuracy: 0.2941 - val_auc: 0.0000e+00 - val_loss: 0.0574 - val_precision: 1.0000 - val_recall: 0.2941\n",
      "Epoch 14/100\n",
      "\u001b[1m67/67\u001b[0m \u001b[32m━━━━━━━━━━━━━━━━━━━━\u001b[0m\u001b[37m\u001b[0m \u001b[1m1s\u001b[0m 9ms/step - accuracy: 0.6505 - auc: 0.7219 - loss: 0.0373 - precision: 0.4666 - recall: 0.6397 - val_accuracy: 0.2941 - val_auc: 0.0000e+00 - val_loss: 0.0581 - val_precision: 1.0000 - val_recall: 0.2941\n",
      "Epoch 15/100\n",
      "\u001b[1m67/67\u001b[0m \u001b[32m━━━━━━━━━━━━━━━━━━━━\u001b[0m\u001b[37m\u001b[0m \u001b[1m1s\u001b[0m 9ms/step - accuracy: 0.7222 - auc: 0.8084 - loss: 0.0320 - precision: 0.4889 - recall: 0.4559 - val_accuracy: 0.2353 - val_auc: 0.0000e+00 - val_loss: 0.0586 - val_precision: 1.0000 - val_recall: 0.2353\n",
      "Epoch 16/100\n",
      "\u001b[1m67/67\u001b[0m \u001b[32m━━━━━━━━━━━━━━━━━━━━\u001b[0m\u001b[37m\u001b[0m \u001b[1m1s\u001b[0m 11ms/step - accuracy: 0.8529 - auc: 0.8411 - loss: 0.0307 - precision: 0.8006 - recall: 0.6898 - val_accuracy: 0.2353 - val_auc: 0.0000e+00 - val_loss: 0.0592 - val_precision: 1.0000 - val_recall: 0.2353\n",
      "Epoch 17/100\n",
      "\u001b[1m67/67\u001b[0m \u001b[32m━━━━━━━━━━━━━━━━━━━━\u001b[0m\u001b[37m\u001b[0m \u001b[1m1s\u001b[0m 9ms/step - accuracy: 0.8037 - auc: 0.8526 - loss: 0.0316 - precision: 0.6626 - recall: 0.8215 - val_accuracy: 0.2353 - val_auc: 0.0000e+00 - val_loss: 0.0601 - val_precision: 1.0000 - val_recall: 0.2353\n",
      "Epoch 18/100\n",
      "\u001b[1m67/67\u001b[0m \u001b[32m━━━━━━━━━━━━━━━━━━━━\u001b[0m\u001b[37m\u001b[0m \u001b[1m1s\u001b[0m 9ms/step - accuracy: 0.7624 - auc: 0.8085 - loss: 0.0329 - precision: 0.6678 - recall: 0.6708 - val_accuracy: 0.2353 - val_auc: 0.0000e+00 - val_loss: 0.0603 - val_precision: 1.0000 - val_recall: 0.2353\n",
      "Epoch 19/100\n",
      "\u001b[1m67/67\u001b[0m \u001b[32m━━━━━━━━━━━━━━━━━━━━\u001b[0m\u001b[37m\u001b[0m \u001b[1m1s\u001b[0m 9ms/step - accuracy: 0.6705 - auc: 0.8130 - loss: 0.0331 - precision: 0.5551 - recall: 0.6525 - val_accuracy: 0.2353 - val_auc: 0.0000e+00 - val_loss: 0.0607 - val_precision: 1.0000 - val_recall: 0.2353\n",
      "Epoch 20/100\n",
      "\u001b[1m67/67\u001b[0m \u001b[32m━━━━━━━━━━━━━━━━━━━━\u001b[0m\u001b[37m\u001b[0m \u001b[1m1s\u001b[0m 9ms/step - accuracy: 0.8318 - auc: 0.8762 - loss: 0.0314 - precision: 0.7836 - recall: 0.7922 - val_accuracy: 0.2941 - val_auc: 0.0000e+00 - val_loss: 0.0610 - val_precision: 1.0000 - val_recall: 0.2941\n",
      "Epoch 21/100\n",
      "\u001b[1m67/67\u001b[0m \u001b[32m━━━━━━━━━━━━━━━━━━━━\u001b[0m\u001b[37m\u001b[0m \u001b[1m1s\u001b[0m 8ms/step - accuracy: 0.8238 - auc: 0.8367 - loss: 0.0316 - precision: 0.8018 - recall: 0.6189 - val_accuracy: 0.2941 - val_auc: 0.0000e+00 - val_loss: 0.0618 - val_precision: 1.0000 - val_recall: 0.2941\n",
      "Epoch 22/100\n",
      "\u001b[1m67/67\u001b[0m \u001b[32m━━━━━━━━━━━━━━━━━━━━\u001b[0m\u001b[37m\u001b[0m \u001b[1m1s\u001b[0m 12ms/step - accuracy: 0.7944 - auc: 0.8852 - loss: 0.0329 - precision: 0.7482 - recall: 0.7000 - val_accuracy: 0.2941 - val_auc: 0.0000e+00 - val_loss: 0.0622 - val_precision: 1.0000 - val_recall: 0.2941\n",
      "Epoch 23/100\n",
      "\u001b[1m67/67\u001b[0m \u001b[32m━━━━━━━━━━━━━━━━━━━━\u001b[0m\u001b[37m\u001b[0m \u001b[1m4s\u001b[0m 63ms/step - accuracy: 0.8282 - auc: 0.8754 - loss: 0.0332 - precision: 0.7966 - recall: 0.8532 - val_accuracy: 0.2941 - val_auc: 0.0000e+00 - val_loss: 0.0629 - val_precision: 1.0000 - val_recall: 0.2941\n",
      "Epoch 24/100\n",
      "\u001b[1m67/67\u001b[0m \u001b[32m━━━━━━━━━━━━━━━━━━━━\u001b[0m\u001b[37m\u001b[0m \u001b[1m1s\u001b[0m 9ms/step - accuracy: 0.8845 - auc: 0.9180 - loss: 0.0285 - precision: 0.8677 - recall: 0.7609 - val_accuracy: 0.2941 - val_auc: 0.0000e+00 - val_loss: 0.0633 - val_precision: 1.0000 - val_recall: 0.2941\n",
      "Epoch 25/100\n",
      "\u001b[1m67/67\u001b[0m \u001b[32m━━━━━━━━━━━━━━━━━━━━\u001b[0m\u001b[37m\u001b[0m \u001b[1m1s\u001b[0m 12ms/step - accuracy: 0.8376 - auc: 0.9332 - loss: 0.0297 - precision: 0.8748 - recall: 0.6346 - val_accuracy: 0.2941 - val_auc: 0.0000e+00 - val_loss: 0.0641 - val_precision: 1.0000 - val_recall: 0.2941\n",
      "Epoch 26/100\n",
      "\u001b[1m67/67\u001b[0m \u001b[32m━━━━━━━━━━━━━━━━━━━━\u001b[0m\u001b[37m\u001b[0m \u001b[1m1s\u001b[0m 9ms/step - accuracy: 0.8459 - auc: 0.9174 - loss: 0.0304 - precision: 0.8751 - recall: 0.7081 - val_accuracy: 0.2941 - val_auc: 0.0000e+00 - val_loss: 0.0643 - val_precision: 1.0000 - val_recall: 0.2941\n",
      "Epoch 27/100\n",
      "\u001b[1m67/67\u001b[0m \u001b[32m━━━━━━━━━━━━━━━━━━━━\u001b[0m\u001b[37m\u001b[0m \u001b[1m1s\u001b[0m 9ms/step - accuracy: 0.8408 - auc: 0.9539 - loss: 0.0289 - precision: 0.8390 - recall: 0.6867 - val_accuracy: 0.2941 - val_auc: 0.0000e+00 - val_loss: 0.0648 - val_precision: 1.0000 - val_recall: 0.2941\n",
      "Epoch 28/100\n",
      "\u001b[1m67/67\u001b[0m \u001b[32m━━━━━━━━━━━━━━━━━━━━\u001b[0m\u001b[37m\u001b[0m \u001b[1m1s\u001b[0m 11ms/step - accuracy: 0.9102 - auc: 0.9222 - loss: 0.0276 - precision: 0.8305 - recall: 0.8583 - val_accuracy: 0.2941 - val_auc: 0.0000e+00 - val_loss: 0.0656 - val_precision: 1.0000 - val_recall: 0.2941\n",
      "Epoch 29/100\n",
      "\u001b[1m67/67\u001b[0m \u001b[32m━━━━━━━━━━━━━━━━━━━━\u001b[0m\u001b[37m\u001b[0m \u001b[1m1s\u001b[0m 9ms/step - accuracy: 0.9054 - auc: 0.9426 - loss: 0.0266 - precision: 0.9074 - recall: 0.7610 - val_accuracy: 0.2941 - val_auc: 0.0000e+00 - val_loss: 0.0658 - val_precision: 1.0000 - val_recall: 0.2941\n",
      "Epoch 30/100\n",
      "\u001b[1m67/67\u001b[0m \u001b[32m━━━━━━━━━━━━━━━━━━━━\u001b[0m\u001b[37m\u001b[0m \u001b[1m1s\u001b[0m 10ms/step - accuracy: 0.8823 - auc: 0.9067 - loss: 0.0246 - precision: 0.8126 - recall: 0.6706 - val_accuracy: 0.3529 - val_auc: 0.0000e+00 - val_loss: 0.0664 - val_precision: 1.0000 - val_recall: 0.3529\n",
      "Epoch 31/100\n",
      "\u001b[1m67/67\u001b[0m \u001b[32m━━━━━━━━━━━━━━━━━━━━\u001b[0m\u001b[37m\u001b[0m \u001b[1m1s\u001b[0m 9ms/step - accuracy: 0.9184 - auc: 0.9664 - loss: 0.0252 - precision: 0.9708 - recall: 0.8045 - val_accuracy: 0.3529 - val_auc: 0.0000e+00 - val_loss: 0.0669 - val_precision: 1.0000 - val_recall: 0.3529\n",
      "Epoch 32/100\n",
      "\u001b[1m67/67\u001b[0m \u001b[32m━━━━━━━━━━━━━━━━━━━━\u001b[0m\u001b[37m\u001b[0m \u001b[1m1s\u001b[0m 10ms/step - accuracy: 0.9348 - auc: 0.9644 - loss: 0.0258 - precision: 0.9580 - recall: 0.8270 - val_accuracy: 0.3529 - val_auc: 0.0000e+00 - val_loss: 0.0674 - val_precision: 1.0000 - val_recall: 0.3529\n",
      "Epoch 33/100\n",
      "\u001b[1m67/67\u001b[0m \u001b[32m━━━━━━━━━━━━━━━━━━━━\u001b[0m\u001b[37m\u001b[0m \u001b[1m1s\u001b[0m 9ms/step - accuracy: 0.9581 - auc: 0.9325 - loss: 0.0265 - precision: 0.9282 - recall: 0.8295 - val_accuracy: 0.3529 - val_auc: 0.0000e+00 - val_loss: 0.0679 - val_precision: 1.0000 - val_recall: 0.3529\n",
      "Epoch 34/100\n",
      "\u001b[1m67/67\u001b[0m \u001b[32m━━━━━━━━━━━━━━━━━━━━\u001b[0m\u001b[37m\u001b[0m \u001b[1m1s\u001b[0m 9ms/step - accuracy: 0.9081 - auc: 0.9650 - loss: 0.0274 - precision: 0.9582 - recall: 0.7973 - val_accuracy: 0.3529 - val_auc: 0.0000e+00 - val_loss: 0.0683 - val_precision: 1.0000 - val_recall: 0.3529\n",
      "Epoch 35/100\n",
      "\u001b[1m67/67\u001b[0m \u001b[32m━━━━━━━━━━━━━━━━━━━━\u001b[0m\u001b[37m\u001b[0m \u001b[1m1s\u001b[0m 10ms/step - accuracy: 0.9001 - auc: 0.9692 - loss: 0.0250 - precision: 0.9291 - recall: 0.7690 - val_accuracy: 0.3529 - val_auc: 0.0000e+00 - val_loss: 0.0688 - val_precision: 1.0000 - val_recall: 0.3529\n",
      "Epoch 36/100\n",
      "\u001b[1m67/67\u001b[0m \u001b[32m━━━━━━━━━━━━━━━━━━━━\u001b[0m\u001b[37m\u001b[0m \u001b[1m1s\u001b[0m 8ms/step - accuracy: 0.9086 - auc: 0.9458 - loss: 0.0234 - precision: 0.9294 - recall: 0.7565 - val_accuracy: 0.3529 - val_auc: 0.0000e+00 - val_loss: 0.0692 - val_precision: 1.0000 - val_recall: 0.3529\n",
      "Epoch 37/100\n",
      "\u001b[1m67/67\u001b[0m \u001b[32m━━━━━━━━━━━━━━━━━━━━\u001b[0m\u001b[37m\u001b[0m \u001b[1m1s\u001b[0m 9ms/step - accuracy: 0.8711 - auc: 0.9501 - loss: 0.0254 - precision: 0.8011 - recall: 0.7776 - val_accuracy: 0.3529 - val_auc: 0.0000e+00 - val_loss: 0.0698 - val_precision: 1.0000 - val_recall: 0.3529\n",
      "Epoch 38/100\n",
      "\u001b[1m67/67\u001b[0m \u001b[32m━━━━━━━━━━━━━━━━━━━━\u001b[0m\u001b[37m\u001b[0m \u001b[1m1s\u001b[0m 15ms/step - accuracy: 0.7652 - auc: 0.9154 - loss: 0.0282 - precision: 0.8185 - recall: 0.6007 - val_accuracy: 0.3529 - val_auc: 0.0000e+00 - val_loss: 0.0702 - val_precision: 1.0000 - val_recall: 0.3529\n",
      "Epoch 39/100\n",
      "\u001b[1m67/67\u001b[0m \u001b[32m━━━━━━━━━━━━━━━━━━━━\u001b[0m\u001b[37m\u001b[0m \u001b[1m1s\u001b[0m 9ms/step - accuracy: 0.8701 - auc: 0.9219 - loss: 0.0255 - precision: 0.8673 - recall: 0.7117 - val_accuracy: 0.3529 - val_auc: 0.0000e+00 - val_loss: 0.0707 - val_precision: 1.0000 - val_recall: 0.3529\n",
      "Epoch 40/100\n",
      "\u001b[1m67/67\u001b[0m \u001b[32m━━━━━━━━━━━━━━━━━━━━\u001b[0m\u001b[37m\u001b[0m \u001b[1m1s\u001b[0m 9ms/step - accuracy: 0.8892 - auc: 0.9593 - loss: 0.0236 - precision: 0.8633 - recall: 0.8012 - val_accuracy: 0.3529 - val_auc: 0.0000e+00 - val_loss: 0.0710 - val_precision: 1.0000 - val_recall: 0.3529\n",
      "Epoch 41/100\n",
      "\u001b[1m67/67\u001b[0m \u001b[32m━━━━━━━━━━━━━━━━━━━━\u001b[0m\u001b[37m\u001b[0m \u001b[1m1s\u001b[0m 10ms/step - accuracy: 0.9367 - auc: 0.9666 - loss: 0.0227 - precision: 0.9536 - recall: 0.7660 - val_accuracy: 0.3529 - val_auc: 0.0000e+00 - val_loss: 0.0716 - val_precision: 1.0000 - val_recall: 0.3529\n",
      "Epoch 42/100\n",
      "\u001b[1m67/67\u001b[0m \u001b[32m━━━━━━━━━━━━━━━━━━━━\u001b[0m\u001b[37m\u001b[0m \u001b[1m1s\u001b[0m 9ms/step - accuracy: 0.9230 - auc: 0.9215 - loss: 0.0213 - precision: 0.8489 - recall: 0.7848 - val_accuracy: 0.3529 - val_auc: 0.0000e+00 - val_loss: 0.0719 - val_precision: 1.0000 - val_recall: 0.3529\n",
      "Epoch 43/100\n",
      "\u001b[1m67/67\u001b[0m \u001b[32m━━━━━━━━━━━━━━━━━━━━\u001b[0m\u001b[37m\u001b[0m \u001b[1m1s\u001b[0m 9ms/step - accuracy: 0.9646 - auc: 0.9642 - loss: 0.0225 - precision: 0.9446 - recall: 0.9035 - val_accuracy: 0.3529 - val_auc: 0.0000e+00 - val_loss: 0.0722 - val_precision: 1.0000 - val_recall: 0.3529\n",
      "Epoch 44/100\n",
      "\u001b[1m67/67\u001b[0m \u001b[32m━━━━━━━━━━━━━━━━━━━━\u001b[0m\u001b[37m\u001b[0m \u001b[1m1s\u001b[0m 10ms/step - accuracy: 0.9644 - auc: 0.9841 - loss: 0.0183 - precision: 0.9943 - recall: 0.9175 - val_accuracy: 0.3529 - val_auc: 0.0000e+00 - val_loss: 0.0727 - val_precision: 1.0000 - val_recall: 0.3529\n",
      "Epoch 45/100\n",
      "\u001b[1m67/67\u001b[0m \u001b[32m━━━━━━━━━━━━━━━━━━━━\u001b[0m\u001b[37m\u001b[0m \u001b[1m1s\u001b[0m 11ms/step - accuracy: 0.8523 - auc: 0.9781 - loss: 0.0238 - precision: 0.9030 - recall: 0.7282 - val_accuracy: 0.3529 - val_auc: 0.0000e+00 - val_loss: 0.0732 - val_precision: 1.0000 - val_recall: 0.3529\n",
      "Epoch 46/100\n",
      "\u001b[1m67/67\u001b[0m \u001b[32m━━━━━━━━━━━━━━━━━━━━\u001b[0m\u001b[37m\u001b[0m \u001b[1m1s\u001b[0m 9ms/step - accuracy: 0.9274 - auc: 0.8908 - loss: 0.0207 - precision: 0.8660 - recall: 0.7167 - val_accuracy: 0.3529 - val_auc: 0.0000e+00 - val_loss: 0.0737 - val_precision: 1.0000 - val_recall: 0.3529\n",
      "Epoch 47/100\n",
      "\u001b[1m67/67\u001b[0m \u001b[32m━━━━━━━━━━━━━━━━━━━━\u001b[0m\u001b[37m\u001b[0m \u001b[1m1s\u001b[0m 8ms/step - accuracy: 0.9533 - auc: 0.9693 - loss: 0.0193 - precision: 0.9924 - recall: 0.8650 - val_accuracy: 0.3529 - val_auc: 0.0000e+00 - val_loss: 0.0741 - val_precision: 1.0000 - val_recall: 0.3529\n",
      "Epoch 48/100\n",
      "\u001b[1m67/67\u001b[0m \u001b[32m━━━━━━━━━━━━━━━━━━━━\u001b[0m\u001b[37m\u001b[0m \u001b[1m1s\u001b[0m 9ms/step - accuracy: 0.9755 - auc: 0.9793 - loss: 0.0207 - precision: 0.9655 - recall: 0.9740 - val_accuracy: 0.3529 - val_auc: 0.0000e+00 - val_loss: 0.0745 - val_precision: 1.0000 - val_recall: 0.3529\n",
      "Epoch 49/100\n",
      "\u001b[1m67/67\u001b[0m \u001b[32m━━━━━━━━━━━━━━━━━━━━\u001b[0m\u001b[37m\u001b[0m \u001b[1m1s\u001b[0m 12ms/step - accuracy: 0.9081 - auc: 0.9648 - loss: 0.0220 - precision: 0.8989 - recall: 0.8618 - val_accuracy: 0.3529 - val_auc: 0.0000e+00 - val_loss: 0.0752 - val_precision: 1.0000 - val_recall: 0.3529\n",
      "Epoch 50/100\n",
      "\u001b[1m67/67\u001b[0m \u001b[32m━━━━━━━━━━━━━━━━━━━━\u001b[0m\u001b[37m\u001b[0m \u001b[1m1s\u001b[0m 8ms/step - accuracy: 0.9728 - auc: 0.9657 - loss: 0.0191 - precision: 0.9281 - recall: 0.9474 - val_accuracy: 0.3529 - val_auc: 0.0000e+00 - val_loss: 0.0754 - val_precision: 1.0000 - val_recall: 0.3529\n",
      "Epoch 51/100\n",
      "\u001b[1m67/67\u001b[0m \u001b[32m━━━━━━━━━━━━━━━━━━━━\u001b[0m\u001b[37m\u001b[0m \u001b[1m1s\u001b[0m 13ms/step - accuracy: 0.9431 - auc: 0.9680 - loss: 0.0206 - precision: 0.9383 - recall: 0.8280 - val_accuracy: 0.3529 - val_auc: 0.0000e+00 - val_loss: 0.0759 - val_precision: 1.0000 - val_recall: 0.3529\n",
      "Epoch 52/100\n",
      "\u001b[1m67/67\u001b[0m \u001b[32m━━━━━━━━━━━━━━━━━━━━\u001b[0m\u001b[37m\u001b[0m \u001b[1m1s\u001b[0m 10ms/step - accuracy: 0.9391 - auc: 0.9678 - loss: 0.0195 - precision: 0.9750 - recall: 0.8691 - val_accuracy: 0.3529 - val_auc: 0.0000e+00 - val_loss: 0.0764 - val_precision: 1.0000 - val_recall: 0.3529\n",
      "Epoch 53/100\n",
      "\u001b[1m67/67\u001b[0m \u001b[32m━━━━━━━━━━━━━━━━━━━━\u001b[0m\u001b[37m\u001b[0m \u001b[1m1s\u001b[0m 9ms/step - accuracy: 0.9625 - auc: 0.9791 - loss: 0.0183 - precision: 0.9289 - recall: 0.9398 - val_accuracy: 0.3529 - val_auc: 0.0000e+00 - val_loss: 0.0767 - val_precision: 1.0000 - val_recall: 0.3529\n",
      "Epoch 54/100\n",
      "\u001b[1m67/67\u001b[0m \u001b[32m━━━━━━━━━━━━━━━━━━━━\u001b[0m\u001b[37m\u001b[0m \u001b[1m1s\u001b[0m 8ms/step - accuracy: 0.9825 - auc: 0.9683 - loss: 0.0178 - precision: 0.9532 - recall: 0.9431 - val_accuracy: 0.3529 - val_auc: 0.0000e+00 - val_loss: 0.0770 - val_precision: 1.0000 - val_recall: 0.3529\n",
      "Epoch 55/100\n",
      "\u001b[1m67/67\u001b[0m \u001b[32m━━━━━━━━━━━━━━━━━━━━\u001b[0m\u001b[37m\u001b[0m \u001b[1m1s\u001b[0m 12ms/step - accuracy: 0.9194 - auc: 0.9618 - loss: 0.0213 - precision: 0.9505 - recall: 0.8785 - val_accuracy: 0.3529 - val_auc: 0.0000e+00 - val_loss: 0.0776 - val_precision: 1.0000 - val_recall: 0.3529\n",
      "Epoch 56/100\n",
      "\u001b[1m67/67\u001b[0m \u001b[32m━━━━━━━━━━━━━━━━━━━━\u001b[0m\u001b[37m\u001b[0m \u001b[1m1s\u001b[0m 9ms/step - accuracy: 0.9689 - auc: 0.9739 - loss: 0.0195 - precision: 0.9476 - recall: 0.9786 - val_accuracy: 0.3529 - val_auc: 0.0000e+00 - val_loss: 0.0778 - val_precision: 1.0000 - val_recall: 0.3529\n",
      "Epoch 57/100\n",
      "\u001b[1m67/67\u001b[0m \u001b[32m━━━━━━━━━━━━━━━━━━━━\u001b[0m\u001b[37m\u001b[0m \u001b[1m1s\u001b[0m 8ms/step - accuracy: 0.9346 - auc: 0.9736 - loss: 0.0207 - precision: 0.9367 - recall: 0.8765 - val_accuracy: 0.3529 - val_auc: 0.0000e+00 - val_loss: 0.0781 - val_precision: 1.0000 - val_recall: 0.3529\n",
      "Epoch 58/100\n",
      "\u001b[1m67/67\u001b[0m \u001b[32m━━━━━━━━━━━━━━━━━━━━\u001b[0m\u001b[37m\u001b[0m \u001b[1m1s\u001b[0m 9ms/step - accuracy: 0.9686 - auc: 0.9661 - loss: 0.0171 - precision: 0.9566 - recall: 0.9613 - val_accuracy: 0.3529 - val_auc: 0.0000e+00 - val_loss: 0.0788 - val_precision: 1.0000 - val_recall: 0.3529\n",
      "Epoch 59/100\n",
      "\u001b[1m67/67\u001b[0m \u001b[32m━━━━━━━━━━━━━━━━━━━━\u001b[0m\u001b[37m\u001b[0m \u001b[1m1s\u001b[0m 11ms/step - accuracy: 0.9769 - auc: 0.9818 - loss: 0.0192 - precision: 0.9641 - recall: 0.9683 - val_accuracy: 0.3529 - val_auc: 0.0000e+00 - val_loss: 0.0796 - val_precision: 1.0000 - val_recall: 0.3529\n",
      "Epoch 60/100\n",
      "\u001b[1m67/67\u001b[0m \u001b[32m━━━━━━━━━━━━━━━━━━━━\u001b[0m\u001b[37m\u001b[0m \u001b[1m1s\u001b[0m 8ms/step - accuracy: 0.9860 - auc: 0.9699 - loss: 0.0157 - precision: 0.9928 - recall: 0.9711 - val_accuracy: 0.3529 - val_auc: 0.0000e+00 - val_loss: 0.0796 - val_precision: 1.0000 - val_recall: 0.3529\n",
      "Epoch 61/100\n",
      "\u001b[1m67/67\u001b[0m \u001b[32m━━━━━━━━━━━━━━━━━━━━\u001b[0m\u001b[37m\u001b[0m \u001b[1m1s\u001b[0m 9ms/step - accuracy: 0.9576 - auc: 0.9837 - loss: 0.0160 - precision: 0.9682 - recall: 0.8939 - val_accuracy: 0.3529 - val_auc: 0.0000e+00 - val_loss: 0.0803 - val_precision: 1.0000 - val_recall: 0.3529\n",
      "Epoch 62/100\n",
      "\u001b[1m67/67\u001b[0m \u001b[32m━━━━━━━━━━━━━━━━━━━━\u001b[0m\u001b[37m\u001b[0m \u001b[1m1s\u001b[0m 11ms/step - accuracy: 0.9569 - auc: 0.9848 - loss: 0.0185 - precision: 0.9804 - recall: 0.8939 - val_accuracy: 0.3529 - val_auc: 0.0000e+00 - val_loss: 0.0804 - val_precision: 1.0000 - val_recall: 0.3529\n",
      "Epoch 63/100\n",
      "\u001b[1m67/67\u001b[0m \u001b[32m━━━━━━━━━━━━━━━━━━━━\u001b[0m\u001b[37m\u001b[0m \u001b[1m1s\u001b[0m 9ms/step - accuracy: 0.9960 - auc: 0.9850 - loss: 0.0175 - precision: 0.9970 - recall: 0.9923 - val_accuracy: 0.3529 - val_auc: 0.0000e+00 - val_loss: 0.0812 - val_precision: 1.0000 - val_recall: 0.3529\n",
      "Epoch 64/100\n",
      "\u001b[1m67/67\u001b[0m \u001b[32m━━━━━━━━━━━━━━━━━━━━\u001b[0m\u001b[37m\u001b[0m \u001b[1m1s\u001b[0m 9ms/step - accuracy: 0.9674 - auc: 0.9832 - loss: 0.0148 - precision: 0.9573 - recall: 0.9071 - val_accuracy: 0.3529 - val_auc: 0.0000e+00 - val_loss: 0.0817 - val_precision: 1.0000 - val_recall: 0.3529\n",
      "Epoch 65/100\n",
      "\u001b[1m67/67\u001b[0m \u001b[32m━━━━━━━━━━━━━━━━━━━━\u001b[0m\u001b[37m\u001b[0m \u001b[1m1s\u001b[0m 8ms/step - accuracy: 0.9843 - auc: 0.8227 - loss: 0.0150 - precision: 0.8095 - recall: 0.7902 - val_accuracy: 0.3529 - val_auc: 0.0000e+00 - val_loss: 0.0821 - val_precision: 1.0000 - val_recall: 0.3529\n",
      "Epoch 66/100\n",
      "\u001b[1m67/67\u001b[0m \u001b[32m━━━━━━━━━━━━━━━━━━━━\u001b[0m\u001b[37m\u001b[0m \u001b[1m1s\u001b[0m 12ms/step - accuracy: 0.9543 - auc: 0.9839 - loss: 0.0161 - precision: 0.9702 - recall: 0.8833 - val_accuracy: 0.3529 - val_auc: 0.0000e+00 - val_loss: 0.0825 - val_precision: 1.0000 - val_recall: 0.3529\n",
      "Epoch 67/100\n",
      "\u001b[1m67/67\u001b[0m \u001b[32m━━━━━━━━━━━━━━━━━━━━\u001b[0m\u001b[37m\u001b[0m \u001b[1m4s\u001b[0m 63ms/step - accuracy: 0.9741 - auc: 0.9550 - loss: 0.0136 - precision: 0.9342 - recall: 0.9008 - val_accuracy: 0.3529 - val_auc: 0.0000e+00 - val_loss: 0.0831 - val_precision: 1.0000 - val_recall: 0.3529\n",
      "Epoch 68/100\n",
      "\u001b[1m67/67\u001b[0m \u001b[32m━━━━━━━━━━━━━━━━━━━━\u001b[0m\u001b[37m\u001b[0m \u001b[1m1s\u001b[0m 9ms/step - accuracy: 0.9781 - auc: 0.8818 - loss: 0.0139 - precision: 0.8715 - recall: 0.8318 - val_accuracy: 0.3529 - val_auc: 0.0000e+00 - val_loss: 0.0832 - val_precision: 1.0000 - val_recall: 0.3529\n",
      "Epoch 69/100\n",
      "\u001b[1m67/67\u001b[0m \u001b[32m━━━━━━━━━━━━━━━━━━━━\u001b[0m\u001b[37m\u001b[0m \u001b[1m1s\u001b[0m 9ms/step - accuracy: 0.9652 - auc: 0.9845 - loss: 0.0153 - precision: 0.8613 - recall: 0.9789 - val_accuracy: 0.3529 - val_auc: 0.0000e+00 - val_loss: 0.0839 - val_precision: 1.0000 - val_recall: 0.3529\n",
      "Epoch 70/100\n",
      "\u001b[1m67/67\u001b[0m \u001b[32m━━━━━━━━━━━━━━━━━━━━\u001b[0m\u001b[37m\u001b[0m \u001b[1m1s\u001b[0m 11ms/step - accuracy: 0.9754 - auc: 0.9542 - loss: 0.0147 - precision: 0.9267 - recall: 0.9110 - val_accuracy: 0.3529 - val_auc: 0.0000e+00 - val_loss: 0.0842 - val_precision: 1.0000 - val_recall: 0.3529\n",
      "Epoch 71/100\n",
      "\u001b[1m67/67\u001b[0m \u001b[32m━━━━━━━━━━━━━━━━━━━━\u001b[0m\u001b[37m\u001b[0m \u001b[1m1s\u001b[0m 9ms/step - accuracy: 0.9835 - auc: 0.9549 - loss: 0.0137 - precision: 0.9159 - recall: 0.9486 - val_accuracy: 0.3529 - val_auc: 0.0000e+00 - val_loss: 0.0850 - val_precision: 1.0000 - val_recall: 0.3529\n",
      "Epoch 72/100\n",
      "\u001b[1m67/67\u001b[0m \u001b[32m━━━━━━━━━━━━━━━━━━━━\u001b[0m\u001b[37m\u001b[0m \u001b[1m1s\u001b[0m 9ms/step - accuracy: 0.9806 - auc: 0.9842 - loss: 0.0145 - precision: 0.9765 - recall: 0.9720 - val_accuracy: 0.3529 - val_auc: 0.0000e+00 - val_loss: 0.0850 - val_precision: 1.0000 - val_recall: 0.3529\n",
      "Epoch 73/100\n",
      "\u001b[1m67/67\u001b[0m \u001b[32m━━━━━━━━━━━━━━━━━━━━\u001b[0m\u001b[37m\u001b[0m \u001b[1m1s\u001b[0m 10ms/step - accuracy: 0.9867 - auc: 0.9264 - loss: 0.0122 - precision: 0.8941 - recall: 0.9228 - val_accuracy: 0.3529 - val_auc: 0.0000e+00 - val_loss: 0.0859 - val_precision: 1.0000 - val_recall: 0.3529\n",
      "Epoch 74/100\n",
      "\u001b[1m67/67\u001b[0m \u001b[32m━━━━━━━━━━━━━━━━━━━━\u001b[0m\u001b[37m\u001b[0m \u001b[1m1s\u001b[0m 9ms/step - accuracy: 0.9704 - auc: 0.9842 - loss: 0.0132 - precision: 0.9495 - recall: 0.9596 - val_accuracy: 0.3529 - val_auc: 0.0000e+00 - val_loss: 0.0859 - val_precision: 1.0000 - val_recall: 0.3529\n",
      "Epoch 75/100\n",
      "\u001b[1m67/67\u001b[0m \u001b[32m━━━━━━━━━━━━━━━━━━━━\u001b[0m\u001b[37m\u001b[0m \u001b[1m1s\u001b[0m 9ms/step - accuracy: 0.9933 - auc: 0.9705 - loss: 0.0136 - precision: 0.9688 - recall: 0.9545 - val_accuracy: 0.3529 - val_auc: 0.0000e+00 - val_loss: 0.0865 - val_precision: 1.0000 - val_recall: 0.3529\n",
      "Epoch 76/100\n",
      "\u001b[1m67/67\u001b[0m \u001b[32m━━━━━━━━━━━━━━━━━━━━\u001b[0m\u001b[37m\u001b[0m \u001b[1m1s\u001b[0m 9ms/step - accuracy: 0.9896 - auc: 0.9851 - loss: 0.0115 - precision: 0.9791 - recall: 0.9645 - val_accuracy: 0.3529 - val_auc: 0.0000e+00 - val_loss: 0.0869 - val_precision: 1.0000 - val_recall: 0.3529\n",
      "Epoch 77/100\n",
      "\u001b[1m67/67\u001b[0m \u001b[32m━━━━━━━━━━━━━━━━━━━━\u001b[0m\u001b[37m\u001b[0m \u001b[1m1s\u001b[0m 11ms/step - accuracy: 0.9738 - auc: 0.9662 - loss: 0.0122 - precision: 1.0000 - recall: 0.9378 - val_accuracy: 0.3529 - val_auc: 0.0000e+00 - val_loss: 0.0875 - val_precision: 1.0000 - val_recall: 0.3529\n",
      "Epoch 78/100\n",
      "\u001b[1m67/67\u001b[0m \u001b[32m━━━━━━━━━━━━━━━━━━━━\u001b[0m\u001b[37m\u001b[0m \u001b[1m1s\u001b[0m 10ms/step - accuracy: 0.9871 - auc: 0.9846 - loss: 0.0118 - precision: 0.9853 - recall: 0.9486 - val_accuracy: 0.3529 - val_auc: 0.0000e+00 - val_loss: 0.0877 - val_precision: 1.0000 - val_recall: 0.3529\n",
      "Epoch 79/100\n",
      "\u001b[1m67/67\u001b[0m \u001b[32m━━━━━━━━━━━━━━━━━━━━\u001b[0m\u001b[37m\u001b[0m \u001b[1m1s\u001b[0m 9ms/step - accuracy: 0.9930 - auc: 0.9850 - loss: 0.0129 - precision: 0.9853 - recall: 0.9670 - val_accuracy: 0.3529 - val_auc: 0.0000e+00 - val_loss: 0.0882 - val_precision: 1.0000 - val_recall: 0.3529\n",
      "Epoch 80/100\n",
      "\u001b[1m67/67\u001b[0m \u001b[32m━━━━━━━━━━━━━━━━━━━━\u001b[0m\u001b[37m\u001b[0m \u001b[1m1s\u001b[0m 10ms/step - accuracy: 0.9977 - auc: 0.9853 - loss: 0.0109 - precision: 0.9853 - recall: 0.9789 - val_accuracy: 0.3529 - val_auc: 0.0000e+00 - val_loss: 0.0888 - val_precision: 1.0000 - val_recall: 0.3529\n",
      "Epoch 81/100\n",
      "\u001b[1m67/67\u001b[0m \u001b[32m━━━━━━━━━━━━━━━━━━━━\u001b[0m\u001b[37m\u001b[0m \u001b[1m1s\u001b[0m 9ms/step - accuracy: 1.0000 - auc: 0.9853 - loss: 0.0126 - precision: 1.0000 - recall: 1.0000 - val_accuracy: 0.3529 - val_auc: 0.0000e+00 - val_loss: 0.0891 - val_precision: 1.0000 - val_recall: 0.3529\n",
      "Epoch 82/100\n",
      "\u001b[1m67/67\u001b[0m \u001b[32m━━━━━━━━━━━━━━━━━━━━\u001b[0m\u001b[37m\u001b[0m \u001b[1m1s\u001b[0m 8ms/step - accuracy: 1.0000 - auc: 0.9853 - loss: 0.0122 - precision: 0.9853 - recall: 0.9853 - val_accuracy: 0.3529 - val_auc: 0.0000e+00 - val_loss: 0.0897 - val_precision: 1.0000 - val_recall: 0.3529\n",
      "Epoch 83/100\n",
      "\u001b[1m67/67\u001b[0m \u001b[32m━━━━━━━━━━━━━━━━━━━━\u001b[0m\u001b[37m\u001b[0m \u001b[1m1s\u001b[0m 8ms/step - accuracy: 1.0000 - auc: 0.9706 - loss: 0.0115 - precision: 0.9706 - recall: 0.9706 - val_accuracy: 0.3529 - val_auc: 0.0000e+00 - val_loss: 0.0901 - val_precision: 1.0000 - val_recall: 0.3529\n",
      "Epoch 84/100\n",
      "\u001b[1m67/67\u001b[0m \u001b[32m━━━━━━━━━━━━━━━━━━━━\u001b[0m\u001b[37m\u001b[0m \u001b[1m1s\u001b[0m 10ms/step - accuracy: 1.0000 - auc: 0.9706 - loss: 0.0115 - precision: 0.9706 - recall: 0.9706 - val_accuracy: 0.3529 - val_auc: 0.0000e+00 - val_loss: 0.0906 - val_precision: 1.0000 - val_recall: 0.3529\n",
      "Epoch 85/100\n",
      "\u001b[1m67/67\u001b[0m \u001b[32m━━━━━━━━━━━━━━━━━━━━\u001b[0m\u001b[37m\u001b[0m \u001b[1m1s\u001b[0m 10ms/step - accuracy: 1.0000 - auc: 0.9853 - loss: 0.0112 - precision: 0.9853 - recall: 0.9853 - val_accuracy: 0.3529 - val_auc: 0.0000e+00 - val_loss: 0.0912 - val_precision: 1.0000 - val_recall: 0.3529\n",
      "Epoch 86/100\n",
      "\u001b[1m67/67\u001b[0m \u001b[32m━━━━━━━━━━━━━━━━━━━━\u001b[0m\u001b[37m\u001b[0m \u001b[1m1s\u001b[0m 8ms/step - accuracy: 1.0000 - auc: 0.9853 - loss: 0.0130 - precision: 1.0000 - recall: 1.0000 - val_accuracy: 0.3529 - val_auc: 0.0000e+00 - val_loss: 0.0916 - val_precision: 1.0000 - val_recall: 0.3529\n",
      "Epoch 87/100\n",
      "\u001b[1m67/67\u001b[0m \u001b[32m━━━━━━━━━━━━━━━━━━━━\u001b[0m\u001b[37m\u001b[0m \u001b[1m1s\u001b[0m 10ms/step - accuracy: 1.0000 - auc: 0.9853 - loss: 0.0124 - precision: 1.0000 - recall: 1.0000 - val_accuracy: 0.3529 - val_auc: 0.0000e+00 - val_loss: 0.0919 - val_precision: 1.0000 - val_recall: 0.3529\n",
      "Epoch 88/100\n",
      "\u001b[1m67/67\u001b[0m \u001b[32m━━━━━━━━━━━━━━━━━━━━\u001b[0m\u001b[37m\u001b[0m \u001b[1m1s\u001b[0m 12ms/step - accuracy: 1.0000 - auc: 0.9853 - loss: 0.0104 - precision: 1.0000 - recall: 1.0000 - val_accuracy: 0.3529 - val_auc: 0.0000e+00 - val_loss: 0.0926 - val_precision: 1.0000 - val_recall: 0.3529\n",
      "Epoch 89/100\n",
      "\u001b[1m67/67\u001b[0m \u001b[32m━━━━━━━━━━━━━━━━━━━━\u001b[0m\u001b[37m\u001b[0m \u001b[1m1s\u001b[0m 9ms/step - accuracy: 1.0000 - auc: 0.9853 - loss: 0.0101 - precision: 0.9853 - recall: 0.9853 - val_accuracy: 0.3529 - val_auc: 0.0000e+00 - val_loss: 0.0929 - val_precision: 1.0000 - val_recall: 0.3529\n",
      "Epoch 90/100\n",
      "\u001b[1m67/67\u001b[0m \u001b[32m━━━━━━━━━━━━━━━━━━━━\u001b[0m\u001b[37m\u001b[0m \u001b[1m1s\u001b[0m 9ms/step - accuracy: 1.0000 - auc: 0.9853 - loss: 0.0093 - precision: 0.9853 - recall: 0.9853 - val_accuracy: 0.3529 - val_auc: 0.0000e+00 - val_loss: 0.0933 - val_precision: 1.0000 - val_recall: 0.3529\n",
      "Epoch 91/100\n",
      "\u001b[1m67/67\u001b[0m \u001b[32m━━━━━━━━━━━━━━━━━━━━\u001b[0m\u001b[37m\u001b[0m \u001b[1m1s\u001b[0m 11ms/step - accuracy: 1.0000 - auc: 0.9559 - loss: 0.0117 - precision: 0.9559 - recall: 0.9559 - val_accuracy: 0.3529 - val_auc: 0.0000e+00 - val_loss: 0.0935 - val_precision: 1.0000 - val_recall: 0.3529\n",
      "Epoch 92/100\n",
      "\u001b[1m67/67\u001b[0m \u001b[32m━━━━━━━━━━━━━━━━━━━━\u001b[0m\u001b[37m\u001b[0m \u001b[1m1s\u001b[0m 9ms/step - accuracy: 1.0000 - auc: 0.9853 - loss: 0.0090 - precision: 1.0000 - recall: 1.0000 - val_accuracy: 0.3529 - val_auc: 0.0000e+00 - val_loss: 0.0943 - val_precision: 1.0000 - val_recall: 0.3529\n",
      "Epoch 93/100\n",
      "\u001b[1m67/67\u001b[0m \u001b[32m━━━━━━━━━━━━━━━━━━━━\u001b[0m\u001b[37m\u001b[0m \u001b[1m1s\u001b[0m 10ms/step - accuracy: 1.0000 - auc: 0.9412 - loss: 0.0087 - precision: 0.9412 - recall: 0.9412 - val_accuracy: 0.3529 - val_auc: 0.0000e+00 - val_loss: 0.0948 - val_precision: 1.0000 - val_recall: 0.3529\n",
      "Epoch 94/100\n",
      "\u001b[1m67/67\u001b[0m \u001b[32m━━━━━━━━━━━━━━━━━━━━\u001b[0m\u001b[37m\u001b[0m \u001b[1m1s\u001b[0m 11ms/step - accuracy: 1.0000 - auc: 0.9412 - loss: 0.0096 - precision: 0.9412 - recall: 0.9412 - val_accuracy: 0.3529 - val_auc: 0.0000e+00 - val_loss: 0.0948 - val_precision: 1.0000 - val_recall: 0.3529\n",
      "Epoch 95/100\n",
      "\u001b[1m67/67\u001b[0m \u001b[32m━━━━━━━━━━━━━━━━━━━━\u001b[0m\u001b[37m\u001b[0m \u001b[1m1s\u001b[0m 8ms/step - accuracy: 1.0000 - auc: 0.9853 - loss: 0.0102 - precision: 0.9853 - recall: 0.9853 - val_accuracy: 0.3529 - val_auc: 0.0000e+00 - val_loss: 0.0954 - val_precision: 1.0000 - val_recall: 0.3529\n",
      "Epoch 96/100\n",
      "\u001b[1m67/67\u001b[0m \u001b[32m━━━━━━━━━━━━━━━━━━━━\u001b[0m\u001b[37m\u001b[0m \u001b[1m1s\u001b[0m 8ms/step - accuracy: 1.0000 - auc: 0.9853 - loss: 0.0084 - precision: 0.9853 - recall: 0.9853 - val_accuracy: 0.3529 - val_auc: 0.0000e+00 - val_loss: 0.0959 - val_precision: 1.0000 - val_recall: 0.3529\n",
      "Epoch 97/100\n",
      "\u001b[1m67/67\u001b[0m \u001b[32m━━━━━━━━━━━━━━━━━━━━\u001b[0m\u001b[37m\u001b[0m \u001b[1m1s\u001b[0m 10ms/step - accuracy: 1.0000 - auc: 0.9853 - loss: 0.0119 - precision: 1.0000 - recall: 1.0000 - val_accuracy: 0.3529 - val_auc: 0.0000e+00 - val_loss: 0.0960 - val_precision: 1.0000 - val_recall: 0.3529\n",
      "Epoch 98/100\n",
      "\u001b[1m67/67\u001b[0m \u001b[32m━━━━━━━━━━━━━━━━━━━━\u001b[0m\u001b[37m\u001b[0m \u001b[1m1s\u001b[0m 11ms/step - accuracy: 1.0000 - auc: 0.9412 - loss: 0.0086 - precision: 0.9412 - recall: 0.9412 - val_accuracy: 0.3529 - val_auc: 0.0000e+00 - val_loss: 0.0967 - val_precision: 1.0000 - val_recall: 0.3529\n",
      "Epoch 99/100\n",
      "\u001b[1m67/67\u001b[0m \u001b[32m━━━━━━━━━━━━━━━━━━━━\u001b[0m\u001b[37m\u001b[0m \u001b[1m1s\u001b[0m 9ms/step - accuracy: 1.0000 - auc: 0.9412 - loss: 0.0080 - precision: 0.9412 - recall: 0.9412 - val_accuracy: 0.3529 - val_auc: 0.0000e+00 - val_loss: 0.0969 - val_precision: 1.0000 - val_recall: 0.3529\n",
      "Epoch 100/100\n",
      "\u001b[1m67/67\u001b[0m \u001b[32m━━━━━━━━━━━━━━━━━━━━\u001b[0m\u001b[37m\u001b[0m \u001b[1m1s\u001b[0m 9ms/step - accuracy: 1.0000 - auc: 0.9118 - loss: 0.0100 - precision: 0.9118 - recall: 0.9118 - val_accuracy: 0.3529 - val_auc: 0.0000e+00 - val_loss: 0.0979 - val_precision: 1.0000 - val_recall: 0.3529\n"
     ]
    },
    {
     "data": {
      "text/plain": [
       "<keras.src.callbacks.history.History at 0x7fc564120080>"
      ]
     },
     "execution_count": 18,
     "metadata": {},
     "output_type": "execute_result"
    }
   ],
   "source": [
    "model.fit(X_train, y_train, epochs=100, batch_size=1, validation_split=0.2)"
   ]
  },
  {
   "cell_type": "code",
   "execution_count": 19,
   "metadata": {},
   "outputs": [
    {
     "name": "stdout",
     "output_type": "stream",
     "text": [
      "\u001b[1m1/1\u001b[0m \u001b[32m━━━━━━━━━━━━━━━━━━━━\u001b[0m\u001b[37m\u001b[0m \u001b[1m0s\u001b[0m 45ms/step\n"
     ]
    }
   ],
   "source": [
    "y_pred = model.predict(X_test)"
   ]
  },
  {
   "cell_type": "code",
   "execution_count": 21,
   "metadata": {},
   "outputs": [
    {
     "data": {
      "image/png": "[encoded data removed]",
      "text/plain": [
       "<Figure size 1000x800 with 2 Axes>"
      ]
     },
     "metadata": {},
     "output_type": "display_data"
    }
   ],
   "source": [
    "plot_confusion_matrix(y_test, y_pred.argmax(axis=1), labels)"
   ]
  },
  {
   "cell_type": "markdown",
   "metadata": {},
   "source": [
    "## Keras Tuner Model"
   ]
  },
  {
   "cell_type": "code",
   "execution_count": 23,
   "metadata": {},
   "outputs": [
    {
     "name": "stdout",
     "output_type": "stream",
     "text": [
      "Reloading Tuner from BestModelSearch/mlp_tuning/tuner0.json\n"
     ]
    }
   ],
   "source": [
    "best_model = build_tuned_mlp(X_train, y_train, X_test, y_test, directory='BestModelSearch')"
   ]
  },
  {
   "cell_type": "code",
   "execution_count": null,
   "metadata": {},
   "outputs": [
    {
     "data": {
      "text/html": [
       "<pre style=\"white-space:pre;overflow-x:auto;line-height:normal;font-family:Menlo,'DejaVu Sans Mono',consolas,'Courier New',monospace\"><span style=\"font-weight: bold\">Model: \"sequential_1\"</span>\n",
       "</pre>\n"
      ],
      "text/plain": [
       "\u001b[1mModel: \"sequential_1\"\u001b[0m\n"
      ]
     },
     "metadata": {},
     "output_type": "display_data"
    },
    {
     "data": {
      "text/html": [
       "<pre style=\"white-space:pre;overflow-x:auto;line-height:normal;font-family:Menlo,'DejaVu Sans Mono',consolas,'Courier New',monospace\">┏━━━━━━━━━━━━━━━━━━━━━━━━━━━━━━━━━┳━━━━━━━━━━━━━━━━━━━━━━━━┳━━━━━━━━━━━━━━━┓\n",
       "┃<span style=\"font-weight: bold\"> Layer (type)                    </span>┃<span style=\"font-weight: bold\"> Output Shape           </span>┃<span style=\"font-weight: bold\">       Param # </span>┃\n",
       "┡━━━━━━━━━━━━━━━━━━━━━━━━━━━━━━━━━╇━━━━━━━━━━━━━━━━━━━━━━━━╇━━━━━━━━━━━━━━━┩\n",
       "│ dense_3 (<span style=\"color: #0087ff; text-decoration-color: #0087ff\">Dense</span>)                 │ (<span style=\"color: #00d7ff; text-decoration-color: #00d7ff\">None</span>, <span style=\"color: #00af00; text-decoration-color: #00af00\">48</span>)             │         <span style=\"color: #00af00; text-decoration-color: #00af00\">6,528</span> │\n",
       "├─────────────────────────────────┼────────────────────────┼───────────────┤\n",
       "│ dropout_2 (<span style=\"color: #0087ff; text-decoration-color: #0087ff\">Dropout</span>)             │ (<span style=\"color: #00d7ff; text-decoration-color: #00d7ff\">None</span>, <span style=\"color: #00af00; text-decoration-color: #00af00\">48</span>)             │             <span style=\"color: #00af00; text-decoration-color: #00af00\">0</span> │\n",
       "├─────────────────────────────────┼────────────────────────┼───────────────┤\n",
       "│ dense_4 (<span style=\"color: #0087ff; text-decoration-color: #0087ff\">Dense</span>)                 │ (<span style=\"color: #00d7ff; text-decoration-color: #00d7ff\">None</span>, <span style=\"color: #00af00; text-decoration-color: #00af00\">16</span>)             │           <span style=\"color: #00af00; text-decoration-color: #00af00\">784</span> │\n",
       "├─────────────────────────────────┼────────────────────────┼───────────────┤\n",
       "│ dropout_3 (<span style=\"color: #0087ff; text-decoration-color: #0087ff\">Dropout</span>)             │ (<span style=\"color: #00d7ff; text-decoration-color: #00d7ff\">None</span>, <span style=\"color: #00af00; text-decoration-color: #00af00\">16</span>)             │             <span style=\"color: #00af00; text-decoration-color: #00af00\">0</span> │\n",
       "├─────────────────────────────────┼────────────────────────┼───────────────┤\n",
       "│ dense_5 (<span style=\"color: #0087ff; text-decoration-color: #0087ff\">Dense</span>)                 │ (<span style=\"color: #00d7ff; text-decoration-color: #00d7ff\">None</span>, <span style=\"color: #00af00; text-decoration-color: #00af00\">16</span>)             │           <span style=\"color: #00af00; text-decoration-color: #00af00\">272</span> │\n",
       "├─────────────────────────────────┼────────────────────────┼───────────────┤\n",
       "│ dropout_4 (<span style=\"color: #0087ff; text-decoration-color: #0087ff\">Dropout</span>)             │ (<span style=\"color: #00d7ff; text-decoration-color: #00d7ff\">None</span>, <span style=\"color: #00af00; text-decoration-color: #00af00\">16</span>)             │             <span style=\"color: #00af00; text-decoration-color: #00af00\">0</span> │\n",
       "├─────────────────────────────────┼────────────────────────┼───────────────┤\n",
       "│ dense_6 (<span style=\"color: #0087ff; text-decoration-color: #0087ff\">Dense</span>)                 │ (<span style=\"color: #00d7ff; text-decoration-color: #00d7ff\">None</span>, <span style=\"color: #00af00; text-decoration-color: #00af00\">1</span>)              │            <span style=\"color: #00af00; text-decoration-color: #00af00\">17</span> │\n",
       "└─────────────────────────────────┴────────────────────────┴───────────────┘\n",
       "</pre>\n"
      ],
      "text/plain": [
       "┏━━━━━━━━━━━━━━━━━━━━━━━━━━━━━━━━━┳━━━━━━━━━━━━━━━━━━━━━━━━┳━━━━━━━━━━━━━━━┓\n",
       "┃\u001b[1m \u001b[0m\u001b[1mLayer (type)                   \u001b[0m\u001b[1m \u001b[0m┃\u001b[1m \u001b[0m\u001b[1mOutput Shape          \u001b[0m\u001b[1m \u001b[0m┃\u001b[1m \u001b[0m\u001b[1m      Param #\u001b[0m\u001b[1m \u001b[0m┃\n",
       "┡━━━━━━━━━━━━━━━━━━━━━━━━━━━━━━━━━╇━━━━━━━━━━━━━━━━━━━━━━━━╇━━━━━━━━━━━━━━━┩\n",
       "│ dense_3 (\u001b[38;5;33mDense\u001b[0m)                 │ (\u001b[38;5;45mNone\u001b[0m, \u001b[38;5;34m48\u001b[0m)             │         \u001b[38;5;34m6,528\u001b[0m │\n",
       "├─────────────────────────────────┼────────────────────────┼───────────────┤\n",
       "│ dropout_2 (\u001b[38;5;33mDropout\u001b[0m)             │ (\u001b[38;5;45mNone\u001b[0m, \u001b[38;5;34m48\u001b[0m)             │             \u001b[38;5;34m0\u001b[0m │\n",
       "├─────────────────────────────────┼────────────────────────┼───────────────┤\n",
       "│ dense_4 (\u001b[38;5;33mDense\u001b[0m)                 │ (\u001b[38;5;45mNone\u001b[0m, \u001b[38;5;34m16\u001b[0m)             │           \u001b[38;5;34m784\u001b[0m │\n",
       "├─────────────────────────────────┼────────────────────────┼───────────────┤\n",
       "│ dropout_3 (\u001b[38;5;33mDropout\u001b[0m)             │ (\u001b[38;5;45mNone\u001b[0m, \u001b[38;5;34m16\u001b[0m)             │             \u001b[38;5;34m0\u001b[0m │\n",
       "├─────────────────────────────────┼────────────────────────┼───────────────┤\n",
       "│ dense_5 (\u001b[38;5;33mDense\u001b[0m)                 │ (\u001b[38;5;45mNone\u001b[0m, \u001b[38;5;34m16\u001b[0m)             │           \u001b[38;5;34m272\u001b[0m │\n",
       "├─────────────────────────────────┼────────────────────────┼───────────────┤\n",
       "│ dropout_4 (\u001b[38;5;33mDropout\u001b[0m)             │ (\u001b[38;5;45mNone\u001b[0m, \u001b[38;5;34m16\u001b[0m)             │             \u001b[38;5;34m0\u001b[0m │\n",
       "├─────────────────────────────────┼────────────────────────┼───────────────┤\n",
       "│ dense_6 (\u001b[38;5;33mDense\u001b[0m)                 │ (\u001b[38;5;45mNone\u001b[0m, \u001b[38;5;34m1\u001b[0m)              │            \u001b[38;5;34m17\u001b[0m │\n",
       "└─────────────────────────────────┴────────────────────────┴───────────────┘\n"
      ]
     },
     "metadata": {},
     "output_type": "display_data"
    },
    {
     "data": {
      "text/html": [
       "<pre style=\"white-space:pre;overflow-x:auto;line-height:normal;font-family:Menlo,'DejaVu Sans Mono',consolas,'Courier New',monospace\"><span style=\"font-weight: bold\"> Total params: </span><span style=\"color: #00af00; text-decoration-color: #00af00\">7,601</span> (29.69 KB)\n",
       "</pre>\n"
      ],
      "text/plain": [
       "\u001b[1m Total params: \u001b[0m\u001b[38;5;34m7,601\u001b[0m (29.69 KB)\n"
      ]
     },
     "metadata": {},
     "output_type": "display_data"
    },
    {
     "data": {
      "text/html": [
       "<pre style=\"white-space:pre;overflow-x:auto;line-height:normal;font-family:Menlo,'DejaVu Sans Mono',consolas,'Courier New',monospace\"><span style=\"font-weight: bold\"> Trainable params: </span><span style=\"color: #00af00; text-decoration-color: #00af00\">7,601</span> (29.69 KB)\n",
       "</pre>\n"
      ],
      "text/plain": [
       "\u001b[1m Trainable params: \u001b[0m\u001b[38;5;34m7,601\u001b[0m (29.69 KB)\n"
      ]
     },
     "metadata": {},
     "output_type": "display_data"
    },
    {
     "data": {
      "text/html": [
       "<pre style=\"white-space:pre;overflow-x:auto;line-height:normal;font-family:Menlo,'DejaVu Sans Mono',consolas,'Courier New',monospace\"><span style=\"font-weight: bold\"> Non-trainable params: </span><span style=\"color: #00af00; text-decoration-color: #00af00\">0</span> (0.00 B)\n",
       "</pre>\n"
      ],
      "text/plain": [
       "\u001b[1m Non-trainable params: \u001b[0m\u001b[38;5;34m0\u001b[0m (0.00 B)\n"
      ]
     },
     "metadata": {},
     "output_type": "display_data"
    }
   ],
   "source": [
    "best_model.summary()"
   ]
  },
  {
   "cell_type": "code",
   "execution_count": 24,
   "metadata": {},
   "outputs": [
    {
     "name": "stdout",
     "output_type": "stream",
     "text": [
      "\u001b[1m1/1\u001b[0m \u001b[32m━━━━━━━━━━━━━━━━━━━━\u001b[0m\u001b[37m\u001b[0m \u001b[1m1s\u001b[0m 627ms/step\n"
     ]
    },
    {
     "data": {
      "image/png": "[encoded data removed]",
      "text/plain": [
       "<Figure size 1000x800 with 2 Axes>"
      ]
     },
     "metadata": {},
     "output_type": "display_data"
    }
   ],
   "source": [
    "y_pred = best_model.predict(X_test)\n",
    "plot_confusion_matrix(y_test, y_pred.argmax(axis=1), labels)"
   ]
  }
 ],
 "metadata": {
  "kernelspec": {
   "display_name": "tf",
   "language": "python",
   "name": "python3"
  },
  "language_info": {
   "codemirror_mode": {
    "name": "ipython",
    "version": 3
   },
   "file_extension": ".py",
   "mimetype": "text/x-python",
   "name": "python",
   "nbconvert_exporter": "python",
   "pygments_lexer": "ipython3",
   "version": "3.12.8"
  }
 },
 "nbformat": 4,
 "nbformat_minor": 2
}
